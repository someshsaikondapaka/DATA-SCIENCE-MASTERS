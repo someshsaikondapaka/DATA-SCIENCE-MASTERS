{
 "cells": [
  {
   "cell_type": "markdown",
   "id": "11d00ada",
   "metadata": {},
   "source": [
    "# ASSIGNMENT"
   ]
  },
  {
   "cell_type": "markdown",
   "id": "a588ab4e",
   "metadata": {},
   "source": [
    "# Q1. Explain Class and Object with respect to Object-Oriented Programming. Give a suitable example"
   ]
  },
  {
   "cell_type": "code",
   "execution_count": null,
   "id": "283ed7fb",
   "metadata": {},
   "outputs": [],
   "source": [
    "# ANSWER\n",
    "# CLASS\n",
    "'''A class is a user-defined layout or blueprint of an object that describes what a specific kind of object will look like.\n",
    "A class description consists of two things:\n",
    "1) Attributes or member variables, and 2) Implementations of behavior or member functions.'''\n",
    "# OBJECTS\n",
    "'''Object is an instance of a class. An object in OOPS is nothing but a self-contained component which consists of methods and\n",
    "properties to make a particular type of data useful. For example color name, table, bag, barking. When you \n",
    "send a message to an object, you are asking the object to invoke or execute one of its methods as defined in the class.'''"
   ]
  },
  {
   "cell_type": "code",
   "execution_count": 3,
   "id": "f1c9b35d",
   "metadata": {},
   "outputs": [
    {
     "name": "stdout",
     "output_type": "stream",
     "text": [
      "welcome to pwskills\n",
      "welcome to pwskills\n"
     ]
    }
   ],
   "source": [
    "class pwskills:\n",
    "    def wishes(self):\n",
    "        print(\"welcome to pwskills\")\n",
    "rohan = pwskills()\n",
    "rohan.wishes()\n",
    "sohan = pwskills()\n",
    "sohan.wishes()"
   ]
  },
  {
   "cell_type": "markdown",
   "id": "64085ef0",
   "metadata": {},
   "source": [
    "# Q2. Name the four pillars of OOPs."
   ]
  },
  {
   "cell_type": "code",
   "execution_count": null,
   "id": "d5c7ec86",
   "metadata": {},
   "outputs": [],
   "source": [
    "# ANSWER\n",
    "# the four pillers of the oops as follows\n",
    "# 1) data abstraction\n",
    "# 2) encapulation\n",
    "# 3) inheritance\n",
    "# 4) polymorphism"
   ]
  },
  {
   "cell_type": "markdown",
   "id": "f08eddd1",
   "metadata": {},
   "source": [
    "# Q3. Explain why the __init__() function is used. Give a suitable example."
   ]
  },
  {
   "cell_type": "code",
   "execution_count": 5,
   "id": "a1791a13",
   "metadata": {},
   "outputs": [
    {
     "name": "stdout",
     "output_type": "stream",
     "text": [
      "123\n",
      "('som@gmail.com', 123)\n"
     ]
    }
   ],
   "source": [
    "# ANSWER\n",
    "# __init__() is a constructor which takes an input data and stores in the class.\n",
    "# EXAMPLE\n",
    "class pwskills:\n",
    "    def __init__(self, gmail_id, student_id):\n",
    "        self.gmail_id = gmail_id\n",
    "        self.student_id = student_id\n",
    "    def student_details(self):\n",
    "        return self.gmail_id,self.student_id\n",
    "somesh = pwskills(\"som@gmail.com\",123)\n",
    "print(somesh.student_id)\n",
    "print(somesh.student_details())\n"
   ]
  },
  {
   "cell_type": "markdown",
   "id": "d8cc66e1",
   "metadata": {},
   "source": [
    "# Q4. Why self is used in OOPs?"
   ]
  },
  {
   "cell_type": "code",
   "execution_count": null,
   "id": "8b1323e2",
   "metadata": {},
   "outputs": [],
   "source": [
    "# self is a pointer which points to the class with the methods and attribites and variables"
   ]
  },
  {
   "cell_type": "markdown",
   "id": "72b38378",
   "metadata": {},
   "source": [
    "# Q5. What is inheritance? Give an example for each type of inheritance."
   ]
  },
  {
   "cell_type": "code",
   "execution_count": 9,
   "id": "a21a8c96",
   "metadata": {},
   "outputs": [
    {
     "name": "stdout",
     "output_type": "stream",
     "text": [
      "Satyam 102\n"
     ]
    }
   ],
   "source": [
    "# It is a mechanism that allows you to create a hierarchy of classes that share a set of properties and methods by deriving a \n",
    "# classfrom another class. Inheritanceis the capability of one class to derive or inherit the properties from another class. \n",
    "# A Python program to demonstrate inheritance\n",
    "\n",
    "class Person(object):\n",
    "\n",
    "# Constructor\n",
    "  def __init__(self, name, id):\n",
    "        self.name = name\n",
    "        self.id = id\n",
    "\n",
    "# To check if this person is an employee\n",
    "  def Display(self):\n",
    "        print(self.name, self.id)\n",
    "\n",
    "\n",
    "# Driver code\n",
    "emp = Person(\"Satyam\", 102) # An Object of Person\n",
    "emp.Display()\n"
   ]
  },
  {
   "cell_type": "code",
   "execution_count": null,
   "id": "23162561",
   "metadata": {},
   "outputs": [],
   "source": []
  }
 ],
 "metadata": {
  "kernelspec": {
   "display_name": "Python 3 (ipykernel)",
   "language": "python",
   "name": "python3"
  },
  "language_info": {
   "codemirror_mode": {
    "name": "ipython",
    "version": 3
   },
   "file_extension": ".py",
   "mimetype": "text/x-python",
   "name": "python",
   "nbconvert_exporter": "python",
   "pygments_lexer": "ipython3",
   "version": "3.9.13"
  }
 },
 "nbformat": 4,
 "nbformat_minor": 5
}
