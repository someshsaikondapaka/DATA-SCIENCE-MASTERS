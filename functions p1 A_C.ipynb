{
 "cells": [
  {
   "cell_type": "markdown",
   "id": "787ee900",
   "metadata": {},
   "source": [
    "### FUNCTIONS PART-1 ASSIGNMENT"
   ]
  },
  {
   "cell_type": "code",
   "execution_count": null,
   "id": "5fd3346d",
   "metadata": {},
   "outputs": [],
   "source": [
    "# Q1. Which keyword is used to create a function? Create a function to return a list of odd numbers in the range of 1 to 25.\n",
    "# ANSWER\n",
    "# \"def\" keyword is used to create a function syntax : def functionname(arguments)"
   ]
  },
  {
   "cell_type": "code",
   "execution_count": 1,
   "id": "35be760b",
   "metadata": {},
   "outputs": [
    {
     "data": {
      "text/plain": [
       "[1, 3, 5, 7, 9, 11, 13, 15, 17, 19, 21, 23]"
      ]
     },
     "execution_count": 1,
     "metadata": {},
     "output_type": "execute_result"
    }
   ],
   "source": [
    "def oddnum():\n",
    "    l = []\n",
    "    for i in range(1,25):\n",
    "        if i%2 != 0:\n",
    "            l.append(i)\n",
    "    return l\n",
    "oddnum()"
   ]
  },
  {
   "cell_type": "markdown",
   "id": "92dcb2b3",
   "metadata": {},
   "source": [
    "## Q2. Why *args and **kwargs is used in some functions? Create a function each for *args and **kwargs to demonstrate their use."
   ]
  },
  {
   "cell_type": "code",
   "execution_count": null,
   "id": "60594e1e",
   "metadata": {},
   "outputs": [],
   "source": [
    "# ANSWER\n",
    "# *args are used to pass multiple arguments at a time without declaring every argument individually.\n",
    "# **kwargs are used to pass multiple dictionary type values as the arguments without declaring the arguments."
   ]
  },
  {
   "cell_type": "code",
   "execution_count": 2,
   "id": "7b20a10e",
   "metadata": {},
   "outputs": [
    {
     "data": {
      "text/plain": [
       "(1, 2, 3, 4, 5, 6, 7, 8, 9)"
      ]
     },
     "execution_count": 2,
     "metadata": {},
     "output_type": "execute_result"
    }
   ],
   "source": [
    "# example for *args\n",
    "def fun1(*args):\n",
    "    return args\n",
    "fun1(1,2,3,4,5,6,7,8,9)"
   ]
  },
  {
   "cell_type": "code",
   "execution_count": 15,
   "id": "b1b31dc8",
   "metadata": {},
   "outputs": [
    {
     "data": {
      "text/plain": [
       "{'a': 2, 'b': 3, 'c': 4, 'd': 5}"
      ]
     },
     "execution_count": 15,
     "metadata": {},
     "output_type": "execute_result"
    }
   ],
   "source": [
    "# example for **kwargs\n",
    "def fun2(**kwargs):\n",
    "    return kwargs\n",
    "fun2(a = 2 , b = 3 , c = 4 , d = 5)\n",
    "# while passing the dictionary datatype the key value only be strings that to while passing we should not use inverted commas"
   ]
  },
  {
   "cell_type": "markdown",
   "id": "4f4b20e9",
   "metadata": {},
   "source": [
    "## Q3. What is an iterator in python? Name the method used to initialise the iterator object and the method used for iteration. Use these methods to print the first five elements of the given list [2, 4, 6, 8, 10, 12, 14, 16, 18, 20]."
   ]
  },
  {
   "cell_type": "code",
   "execution_count": null,
   "id": "d1c3a919",
   "metadata": {},
   "outputs": [],
   "source": [
    "## ANSWER\n",
    "# ITERATOR is process in python in which it iterates through the iterable datatype and it can be done using loops and inbuilt\n",
    "# function\n",
    "# there are two methods are there in python to initialise the hold the iterator object we have iter() method\n",
    "# and the method used for the iteration is next() method"
   ]
  },
  {
   "cell_type": "code",
   "execution_count": 17,
   "id": "4a04d542",
   "metadata": {},
   "outputs": [
    {
     "name": "stdout",
     "output_type": "stream",
     "text": [
      "2\n",
      "4\n",
      "6\n",
      "8\n",
      "10\n"
     ]
    }
   ],
   "source": [
    "#EXAMPLE\n",
    "lst = [2, 4, 6, 8, 10, 12, 14, 16, 18, 20]\n",
    "abc = iter(lst)\n",
    "\n",
    "print(next(abc))\n",
    "print(next(abc))\n",
    "print(next(abc))\n",
    "print(next(abc))\n",
    "print(next(abc))"
   ]
  },
  {
   "cell_type": "markdown",
   "id": "7a8059d1",
   "metadata": {},
   "source": [
    "### Q4.  What is a generator function in python? Why yield keyword is used? Give an example of a generator function.\n"
   ]
  },
  {
   "cell_type": "code",
   "execution_count": null,
   "id": "65f1262d",
   "metadata": {},
   "outputs": [],
   "source": [
    "# ANSWER\n",
    "#generator function generates the sequence of values instead of iterating through the existing data which creates lot of traffic\n",
    "# the purposeof yeild keyword in the generator function is to hold the values and will be stored in the sequence to print"
   ]
  },
  {
   "cell_type": "code",
   "execution_count": 23,
   "id": "4ae19292",
   "metadata": {},
   "outputs": [
    {
     "name": "stdout",
     "output_type": "stream",
     "text": [
      "1\n",
      "3\n",
      "5\n",
      "7\n",
      "9\n",
      "11\n",
      "13\n",
      "15\n",
      "17\n",
      "19\n",
      "21\n",
      "23\n",
      "25\n",
      "27\n",
      "29\n",
      "31\n",
      "33\n",
      "35\n",
      "37\n",
      "39\n",
      "41\n",
      "43\n",
      "45\n",
      "47\n",
      "49\n"
     ]
    }
   ],
   "source": [
    "# EXAMPLE\n",
    "def gen(n):\n",
    "    a=1\n",
    "    for i in range(1,n):\n",
    "        yield a\n",
    "        a +=2\n",
    "gen(25)\n",
    "for i in gen(26):\n",
    "    print(i)"
   ]
  },
  {
   "cell_type": "code",
   "execution_count": null,
   "id": "b2be7778",
   "metadata": {},
   "outputs": [],
   "source": [
    "for i in range(10):\n",
    "    print(i)"
   ]
  },
  {
   "cell_type": "markdown",
   "id": "06f22a47",
   "metadata": {},
   "source": [
    "### Q5. Create a generator function for prime numbers less than 1000. Use the next() method to print the first 20 prime numbers."
   ]
  },
  {
   "cell_type": "code",
   "execution_count": 17,
   "id": "2fec6ca8",
   "metadata": {},
   "outputs": [
    {
     "name": "stdout",
     "output_type": "stream",
     "text": [
      "2\n",
      "3\n",
      "5\n",
      "7\n",
      "11\n",
      "13\n",
      "17\n",
      "19\n",
      "23\n",
      "29\n",
      "31\n",
      "37\n",
      "41\n",
      "43\n",
      "47\n",
      "53\n",
      "59\n",
      "61\n",
      "67\n",
      "71\n"
     ]
    }
   ],
   "source": [
    "# ANSWER\n",
    "def isprime(num):\n",
    "    for i in range(2,num):\n",
    "        if num%i==0:\n",
    "            return False\n",
    "    return True\n",
    "def primegenerator(n):\n",
    "    num=2\n",
    "    while n:\n",
    "        if isprime(num):\n",
    "            yield num\n",
    "            n-=1\n",
    "        num+=1\n",
    "    return\n",
    "\n",
    "it = primegenerator(20)\n",
    "for j in range(20):\n",
    "    print(next(it))"
   ]
  }
 ],
 "metadata": {
  "kernelspec": {
   "display_name": "Python 3 (ipykernel)",
   "language": "python",
   "name": "python3"
  },
  "language_info": {
   "codemirror_mode": {
    "name": "ipython",
    "version": 3
   },
   "file_extension": ".py",
   "mimetype": "text/x-python",
   "name": "python",
   "nbconvert_exporter": "python",
   "pygments_lexer": "ipython3",
   "version": "3.9.13"
  }
 },
 "nbformat": 4,
 "nbformat_minor": 5
}
